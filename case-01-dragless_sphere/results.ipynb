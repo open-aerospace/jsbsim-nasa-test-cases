{
 "cells": [
  {
   "cell_type": "markdown",
   "metadata": {},
   "source": [
    "# Case 1: Dragless Sphere\n",
    "\n",
    "The initial atmospheric check-case scenario called for a small sphere to be\n",
    "dropped from an initial position located 30,000 ft over the Equator/Prime\n",
    "Meridian intersection. Its initial linear velocity should have matched the\n",
    "Earth’s eastward rotation rate at that altitude so that it was initially\n",
    "motionless (in a linear sense) with respect to the still atmosphere; however,\n",
    "it should have had zero inertial rotation; thus it had a small residual\n",
    "rotation relative to the Earth below and the atmosphere surrounding it.\n",
    "\n",
    "The sphere’s orientation was chosen such that the body x-axis was pointed north,\n",
    "the body z-axis was initially pointed down, with the body y-axis completing the\n",
    "orthogonal right-hand-rule by pointing east. Thus the vehicle would have had a\n",
    "small amount of ‘roll rate’ with respect to the rotating Earth. The sphere is\n",
    "imagined to have no reaction with the atmosphere - no damping, and no drag; it\n",
    "will accelerate downward toward the ellipsoidal Earth in response to\n",
    "second-harmonic (J2) gravitation as a function of its geometric height. This is\n",
    "achieved by setting the coefficient of drag (CD) to zero for this scenario.\n",
    "\n",
    "\n",
    " Condition                              | Type\n",
    " -------------------------------------- | ------------------------------------\n",
    " **Vehicle**                            | Dragless sphere\n",
    " **Geodesy**                            | WGS-84 rotating\n",
    " **Atmosphere**                         | US 1976 STD; no wind\n",
    " **Gravitation**                        | J<sub>2</sub>\n",
    " **Duration**                           | 30 s\n",
    " **Initial states:**                    | Geodetic, Local-relative Body axes\n",
    "  &mdash; Position [deg, deg, ft MSL]   | `[0, 0, 30000]`\n",
    "  &mdash; Velocity [ft/s]               | `[0, 0, 0]`\n",
    "  &mdash; Attitude [deg]                | `[0, 0, 0]`\n",
    "  &mdash; Rate [deg/s]                  | `[-0.004178073, 0, 0]`\n",
    "  **Notes**                             | CD set to zero\n",
    "\n",
    "\n",
    "# Simulation Results\n",
    "\n",
    "First look at provided NASA test case:"
   ]
  },
  {
   "cell_type": "code",
   "execution_count": null,
   "metadata": {
    "collapsed": false
   },
   "outputs": [],
   "source": [
    "from numpy import loadtxt\n",
    "import matplotlib.pyplot as plt\n",
    "%matplotlib inline \n",
    "\n",
    "columns = loadtxt(\"test/NASA-testcase_atmos_01.csv\", delimiter=',', unpack=True)\n",
    "\n",
    "n_times              = columns[0]\n",
    "n_altitudeMsl        = columns[1]\n",
    "n_longitude          = columns[2]\n",
    "n_localGravity       = columns[5]\n",
    "n_altRate            = columns[6]\n",
    "n_speedSound         = columns[7]\n",
    "\n",
    "ax = plt.figure(figsize=(16,9))\n",
    "plt.title(r\"NASA Reference Data, Altitude MSL [feet]\")\n",
    "plt.ylabel(r\"Altitude MSL [ft]\")\n",
    "plt.xlabel(r\"Time [s]\")\n",
    "plt.plot(n_times, n_altitudeMsl)\n",
    "ax.axes[0].set_ylim([14000,31000])\n",
    "ax.axes[0].set_xlim([0,30])\n",
    "plt.show()"
   ]
  },
  {
   "cell_type": "markdown",
   "metadata": {},
   "source": [
    "Looks like the sphere fell. Great! We'll investigate the other numbers later.\n",
    "\n",
    "\n",
    "# JSBSim Output\n",
    "\n",
    "And now we look at our output:"
   ]
  },
  {
   "cell_type": "code",
   "execution_count": null,
   "metadata": {
    "collapsed": false
   },
   "outputs": [],
   "source": [
    "columns = loadtxt(\"test/JSBSim-output.csv\", delimiter=',', unpack=True, comments=\"T\")\n",
    "j_times              = columns[ 0]\n",
    "j_altitudeMsl        = columns[ 1]\n",
    "j_longitude          = columns[22]\n",
    "j_localGravity       = columns[32]\n",
    "j_altRate            = columns[33]*60\n",
    "j_speedSound         = columns[34]\n",
    "j_mach               = columns[35]\n",
    "\n",
    "ax = plt.figure(figsize=(16,9))\n",
    "plt.title(r\"JSBSim Simulation Data, Altitude MSL [feet]\")\n",
    "plt.ylabel(r\"Altitude MSL [ft]\")\n",
    "plt.xlabel(r\"Time [s]\")\n",
    "plt.plot(n_times, n_altitudeMsl, color='k', lw=6, alpha=0.15, label=\"NASA Test Cases\")\n",
    "plt.plot(j_times, j_altitudeMsl, label=\"JSBSim Output\")\n",
    "plt.legend(loc=0)\n",
    "ax.axes[0].set_ylim([14000,31000])\n",
    "ax.axes[0].set_xlim([0,30])\n",
    "plt.show()"
   ]
  },
  {
   "cell_type": "markdown",
   "metadata": {},
   "source": [
    "So our ball also dropped. Looks like it's working. In all cases, the data should be so close that looking at the raw output won't be useful. Instead we want to look at the difference between the NASA data and our simulation:\n",
    "\n",
    "# Comparisons\n",
    "\n",
    "Pointwise diff the two results:"
   ]
  },
  {
   "cell_type": "code",
   "execution_count": null,
   "metadata": {
    "collapsed": false
   },
   "outputs": [],
   "source": [
    "ax = plt.figure(figsize=(16,7))\n",
    "plt.title(r\"NASA vs JSBSim, Altitude MSL Diff [feet]\")\n",
    "plt.ylabel(r\"Altitude MSL Diff [ft]\")\n",
    "plt.xlabel(r\"Time [s]\")\n",
    "plt.plot([0,30], [0,0], color='k', alpha=0.2)\n",
    "plt.plot(j_times, j_altitudeMsl-n_altitudeMsl, color='#709afa')\n",
    "ax.axes[0].set_xlim([0,30])\n",
    "plt.show()\n",
    "\n",
    "print \"JSBSim Last Position Diff: %0.5f ft\" % (j_altitudeMsl[-1]-n_altitudeMsl[-1])"
   ]
  },
  {
   "cell_type": "markdown",
   "metadata": {},
   "source": [
    "JSBsim ended up off by about `-0.00013` feet (~`-0.04` mm) over a fall of 14,000 feet!"
   ]
  },
  {
   "cell_type": "code",
   "execution_count": null,
   "metadata": {
    "collapsed": false
   },
   "outputs": [],
   "source": [
    "ax = plt.figure(figsize=(16,7))\n",
    "plt.title(r\"NASA vs JSBSim, Longitude Diff [deg]\")\n",
    "plt.ylabel(r\"Longitude Diff [deg]\")\n",
    "plt.xlabel(r\"Time [s]\")\n",
    "plt.plot([0,30], [0,0], color='k', alpha=0.2)\n",
    "plt.plot(j_times, j_longitude-n_longitude, color='#709afa')\n",
    "ax.axes[0].set_xlim([0,30])\n",
    "ax.axes[0].set_ylim([-1e-7,1e-7])\n",
    "plt.show()"
   ]
  },
  {
   "cell_type": "markdown",
   "metadata": {},
   "source": [
    "Looks like numerical noise (IEEE float round error). Nothing to see here..."
   ]
  },
  {
   "cell_type": "code",
   "execution_count": null,
   "metadata": {
    "collapsed": false
   },
   "outputs": [],
   "source": [
    "ax = plt.figure(figsize=(16,7))\n",
    "plt.title(r\"NASA vs JSBSim, Gravity Diff [ft/s/s]\")\n",
    "plt.ylabel(r\"Gravity Diff [ft/s/s]\")\n",
    "plt.xlabel(r\"Time [s]\")\n",
    "plt.plot([0,30], [0,0], color='k', alpha=0.2)\n",
    "plt.plot(j_times, j_localGravity-n_localGravity, color='#709afa')\n",
    "ax.axes[0].set_xlim([0,30])\n",
    "plt.show()"
   ]
  },
  {
   "cell_type": "markdown",
   "metadata": {},
   "source": [
    "There was a fair amount of divergence in the sim tools for this value. It didn't seem to bother the authors at this scale."
   ]
  },
  {
   "cell_type": "code",
   "execution_count": null,
   "metadata": {
    "collapsed": false
   },
   "outputs": [],
   "source": [
    "ax = plt.figure(figsize=(16,7))\n",
    "plt.title(r\"NASA vs JSBSim, Altitude Rate Diff [ft/min]\")\n",
    "plt.ylabel(r\"Altitude Rate Diff [ft/min]\")\n",
    "plt.xlabel(r\"Time [s]\")\n",
    "plt.plot([0,30], [0,0], color='k', alpha=0.2)\n",
    "plt.plot(j_times, j_altRate-n_altRate, color='#709afa')\n",
    "ax.axes[0].set_xlim([0,30])\n",
    "plt.show()"
   ]
  },
  {
   "cell_type": "code",
   "execution_count": null,
   "metadata": {
    "collapsed": false
   },
   "outputs": [],
   "source": [
    "ax = plt.figure(figsize=(16,7))\n",
    "plt.title(r\"NASA vs JSBSim, Speed of Sound Diff [ft/s]\")\n",
    "plt.ylabel(r\"Speed of Sound Diff [ft/s]\")\n",
    "plt.xlabel(r\"Time [s]\")\n",
    "plt.plot([0,30], [0,0], color='k', alpha=0.2)\n",
    "plt.plot(j_times, j_speedSound-n_speedSound, color='#709afa')\n",
    "ax.axes[0].set_xlim([0,30])\n",
    "ax.axes[0].set_ylim([-1e-2,1e-2])\n",
    "plt.show()"
   ]
  },
  {
   "cell_type": "markdown",
   "metadata": {},
   "source": []
  }
 ],
 "metadata": {
  "kernelspec": {
   "display_name": "Python 2",
   "language": "python",
   "name": "python2"
  },
  "language_info": {
   "codemirror_mode": {
    "name": "ipython",
    "version": 2
   },
   "file_extension": ".py",
   "mimetype": "text/x-python",
   "name": "python",
   "nbconvert_exporter": "python",
   "pygments_lexer": "ipython2",
   "version": "2.7.10+"
  }
 },
 "nbformat": 4,
 "nbformat_minor": 0
}
